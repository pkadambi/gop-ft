{
 "cells": [
  {
   "cell_type": "code",
   "execution_count": 3,
   "id": "840cdcd7-ef18-4a56-a152-97f1d732c0ba",
   "metadata": {},
   "outputs": [],
   "source": [
    "import os\n",
    "import re\n",
    "import glob\n",
    "import pandas as pd\n",
    "from praatio import textgrid\n",
    "from praatio.data_classes.textgrid import Textgrid"
   ]
  },
  {
   "cell_type": "code",
   "execution_count": 4,
   "id": "62f38fc6-485c-4af3-a938-3cd4979bc34b",
   "metadata": {},
   "outputs": [],
   "source": [
    "phones_to_numbers_path = './phones/kaldi/phones-list.txt'"
   ]
  },
  {
   "cell_type": "code",
   "execution_count": null,
   "id": "8b0ca309-cd57-4f87-900e-a7d84de5325b",
   "metadata": {},
   "outputs": [],
   "source": [
    "phoneiddf = pd.read_csv(phones_to_numbers_path, delimiter='\\t', header=None, names=['phones', 'id_raw'])\n",
    "phoneiddf['phoneid'] = phoneiddf['id_raw'].str.strip().str[:-1].str.strip()\n",
    "phoneiddf = phoneiddf.set_index('phones')"
   ]
  },
  {
   "cell_type": "code",
   "execution_count": 25,
   "id": "783e3f14-7bbe-4076-adf0-50b859998c66",
   "metadata": {},
   "outputs": [],
   "source": [
    "f = open(\"child_full_path_list.txt\", 'w')\n",
    "\n",
    "lines_to_write = []\n",
    "for foldername in glob.glob('./child_speech_16_khz_test/*'):\n",
    "    # print(foldername)\n",
    "    speaker = foldername.split('/')[-1]    \n",
    "    if not (len(foldername)<5 or 'ipynb' in foldername):\n",
    "        # print(foldername)\n",
    "        \n",
    "        # print(speaker)\n",
    "        for (root, direc, files) in os.walk(foldername):\n",
    "            # print(files)\n",
    "            for file in files:\n",
    "                if '.wav' in file:\n",
    "                    _pth = os.path.join('./child_speech_16_khz_test', speaker, file)\n",
    "                    writestr = f\"{file.replace('.wav', '')} {_pth}\"\n",
    "                    lines_to_write.append(writestr)\n",
    "                    # print(writestr)\n",
    "        # break\n",
    "f.write('\\n'.join(lines_to_write) + '\\n')\n",
    "f.close()"
   ]
  },
  {
   "cell_type": "code",
   "execution_count": 29,
   "id": "6107baec-1856-4175-94c8-4288352fc934",
   "metadata": {},
   "outputs": [],
   "source": [
    "for foldername in glob.glob('./child_speech_16_khz_test/*'):\n",
    "    speaker = foldername.split('/')[-1]\n",
    "    speakerfpath = os.path.join('./configs/speakers', speaker)\n",
    "    os.makedirs(speakerfpath, exist_ok=True)\n",
    "    holdouts = [line for line in lines_to_write if speaker in line]\n",
    "    trainlines = [line for line in lines_to_write if speaker not in line]\n",
    "    \n",
    "    trpath = speakerfpath  + '/train_full_path_list.txt'    \n",
    "    f = open(trpath, 'w')\n",
    "    f.write('\\n'.join(trainlines)+'\\n')\n",
    "    f.close()\n",
    "\n",
    "    tepath = speakerfpath + '/heldout_full_path_list.txt'\n",
    "    f = open(tepath, 'w')\n",
    "    f.write('\\n'.join(holdouts)+'\\n')\n",
    "    f.close()"
   ]
  },
  {
   "cell_type": "code",
   "execution_count": 4,
   "id": "35beddbb-9abb-454d-81cb-974dcd1a9eca",
   "metadata": {},
   "outputs": [],
   "source": [
    "def extract_phone_df_from_textgrid(txtgrid: Textgrid, phone_key, remove_numbers=False, silchar='[SIL]', replace_SP=True):\n",
    "    '''\n",
    "        txtgrid - praatio textgrid\n",
    "        phone_key - the key for the phonemes\n",
    "    '''\n",
    "    phonelist = txtgrid.tierDict[phone_key].entryList\n",
    "    phonedf = []\n",
    "    for interval in phonelist:\n",
    "        _phone = interval.label\n",
    "        if remove_numbers:\n",
    "            _phone = re.sub(r'[0-9]+', '', _phone)\n",
    "        phonedf.append([interval.start, interval.end, _phone])\n",
    "\n",
    "    phonedf = pd.DataFrame(phonedf, columns=['start', 'end', 'phone'])\n",
    "    phonedf = phonedf.replace('sil', '[SIL]')\n",
    "    if replace_SP:\n",
    "        phonedf = phonedf.replace('sp', '[SIL]')\n",
    "    return phonedf\n",
    "\n",
    "def textgridpath_to_phonedf(txtgrid_path: str, phone_key: str, remove_numbers=False, replace_silence=True):\n",
    "    '''\n",
    "    txtgrid_path - the path to the textgridfile\n",
    "    phone_key - the key in the textgrid for the phoneme column\n",
    "    '''\n",
    "    txtgrid = textgrid.openTextgrid(txtgrid_path, False)\n",
    "    phndf = extract_phone_df_from_textgrid(txtgrid=txtgrid, phone_key=phone_key, remove_numbers=remove_numbers)\n",
    "    if replace_silence:\n",
    "        phndf = phndf.replace('[SIL]', 'sil')\n",
    "        phndf = phndf.replace('sp', 'sil')\n",
    "        # phndf.iloc[phndf.iloc[:, 2] == '[SIL]', 2] = 'sil'\n",
    "        # phndf.iloc[phndf.iloc[:, 2] == '[SIL]', 2] = 'sp'\n",
    "\n",
    "    return phndf"
   ]
  },
  {
   "cell_type": "code",
   "execution_count": 5,
   "id": "e9557d3b-7c0f-4c4b-b61e-004d94d1f64c",
   "metadata": {},
   "outputs": [
    {
     "data": {
      "text/plain": [
       "' generate reference transcriptions '"
      ]
     },
     "execution_count": 5,
     "metadata": {},
     "output_type": "execute_result"
    }
   ],
   "source": [
    "''' generate reference transcriptions '''"
   ]
  },
  {
   "cell_type": "code",
   "execution_count": 6,
   "id": "ca7f1127-b95a-4683-b181-817c1df4469b",
   "metadata": {},
   "outputs": [],
   "source": [
    "tgdir = '/home/prad/datasets/ChildSpeechDataset/manually-aligned-text-grids'\n",
    "speaker = '0611_F_AP'"
   ]
  },
  {
   "cell_type": "code",
   "execution_count": 7,
   "id": "281c20a3-6faf-49d9-84f2-a86a2890220e",
   "metadata": {},
   "outputs": [
    {
     "name": "stdout",
     "output_type": "stream",
     "text": [
      "['sil', 'F', 'AY', 'V', 'M', 'AO', 'R', 'K', 'UH', 'K', 'IY', 'Z', 'sil']\n",
      "['F', 'AY', 'V', 'M', 'AO', 'R', 'K', 'UH', 'K', 'IY', 'Z']\n"
     ]
    }
   ],
   "source": [
    "tgpath = os.path.join(tgdir, speaker, '0611_F_APs3T02.TextGrid')\n",
    "phns = textgridpath_to_phonedf(tgpath, phone_key='ha phones', replace_silence=True, remove_numbers=True).phone\n",
    "phns = list(phns)\n",
    "print(phns)\n",
    "_phns = [ph for ph in phns if 'sil' not in ph]\n",
    "print(_phns)"
   ]
  },
  {
   "cell_type": "code",
   "execution_count": 16,
   "id": "8394e7bc-7a5f-4fdb-8758-f44934ed4cdf",
   "metadata": {},
   "outputs": [],
   "source": []
  },
  {
   "cell_type": "code",
   "execution_count": 26,
   "id": "6ce0f14a-36be-499e-b110-104c5d610b6c",
   "metadata": {},
   "outputs": [],
   "source": [
    "lines = ['##\\n']\n",
    "for fpath in glob.glob(os.path.join('./child_speech_16_khz_test', speaker)+'/*'):\n",
    "    if '.lab' in fpath:\n",
    "        fname = fpath.split('/')[-1]\n",
    "        textname = fname.split('.')[0][9:]\n",
    "        f = open(fpath, 'r')\n",
    "        transcript = f.read().replace('\\n', '').lower()\n",
    "        transcriptline = f\"TEXT {textname}: {transcript}\\n\"\n",
    "        \n",
    "        tgpath = os.path.join(tgdir, speaker, fname.split('.')[0] + '.TextGrid')\n",
    "        phns = textgridpath_to_phonedf(tgpath, phone_key='ha phones', replace_silence=True, remove_numbers=True).phone\n",
    "        phns = list(phns)\n",
    "        phns = ' '.join([ph for ph in phns if 'sil' not in ph])\n",
    "        phoneline = f'TRANSCRIPTION {textname}: {phns}\\n'\n",
    "\n",
    "        lines.append(transcriptline)\n",
    "        lines.append(phoneline)\n",
    "        lines.append('\\n')\n",
    "        # lines.append('')\n",
    "        # print('--------------------')\n",
    "        # print(transcriptline)\n",
    "        # print(phoneline)\n",
    "        \n",
    "f = open('./child_speech_16_khz_test/reference_transcriptions.txt', 'w')\n",
    "f.writelines(lines)\n",
    "f.close()"
   ]
  },
  {
   "cell_type": "code",
   "execution_count": 19,
   "id": "ebdcece3-b3ff-4334-b76c-d21cbe2b0d63",
   "metadata": {},
   "outputs": [
    {
     "ename": "SyntaxError",
     "evalue": "invalid syntax (4006798578.py, line 7)",
     "output_type": "error",
     "traceback": [
      "\u001b[0;36m  File \u001b[0;32m\"/tmp/ipykernel_31633/4006798578.py\"\u001b[0;36m, line \u001b[0;32m7\u001b[0m\n\u001b[0;31m    wavfiles = [file for file in files '.wav']\u001b[0m\n\u001b[0m                                            ^\u001b[0m\n\u001b[0;31mSyntaxError\u001b[0m\u001b[0;31m:\u001b[0m invalid syntax\n"
     ]
    }
   ],
   "source": [
    "\n",
    "for foldername in glob.glob('./child_speech_16_khz_test/*'):\n",
    "    speaker = foldername.split('/')[-1]\n",
    "    speakerfpath = os.path.join(foldername) + '/*'\n",
    "    # files = glob.glob(speakerfpath)\n",
    "    speaker_wavfiles = [file for file in files if '.wav' in file]\n",
    "    \n",
    "    # if not (len(foldername))<5 or 'ipynb' in foldername:\n",
    "        "
   ]
  },
  {
   "cell_type": "code",
   "execution_count": 11,
   "id": "141d94d3-b022-4a6c-8b90-ab000fda8785",
   "metadata": {},
   "outputs": [
    {
     "name": "stdout",
     "output_type": "stream",
     "text": [
      "THEY'LL EAT THOSE HOTDOGS SOON\n",
      "\n"
     ]
    }
   ],
   "source": [
    "f = open(replacefile[0], 'r')\n",
    "print(f.read())\n",
    "f.close()"
   ]
  },
  {
   "cell_type": "code",
   "execution_count": 19,
   "id": "5617bc20-8c30-4bab-ae16-42995ee907ee",
   "metadata": {},
   "outputs": [
    {
     "ename": "ValueError",
     "evalue": "must have exactly one of create/read/write/append mode",
     "output_type": "error",
     "traceback": [
      "\u001b[0;31m---------------------------------------------------------------------------\u001b[0m",
      "\u001b[0;31mValueError\u001b[0m                                Traceback (most recent call last)",
      "\u001b[0;32m/tmp/ipykernel_6454/1832874539.py\u001b[0m in \u001b[0;36m<module>\u001b[0;34m\u001b[0m\n\u001b[1;32m      8\u001b[0m \u001b[0mf\u001b[0m\u001b[0;34m.\u001b[0m\u001b[0mclose\u001b[0m\u001b[0;34m(\u001b[0m\u001b[0;34m)\u001b[0m\u001b[0;34m\u001b[0m\u001b[0;34m\u001b[0m\u001b[0m\n\u001b[1;32m      9\u001b[0m \u001b[0;34m\u001b[0m\u001b[0m\n\u001b[0;32m---> 10\u001b[0;31m \u001b[0mf\u001b[0m \u001b[0;34m=\u001b[0m \u001b[0mopen\u001b[0m\u001b[0;34m(\u001b[0m\u001b[0;34m'tmp.txt'\u001b[0m\u001b[0;34m,\u001b[0m \u001b[0;34m'wr'\u001b[0m\u001b[0;34m)\u001b[0m\u001b[0;34m\u001b[0m\u001b[0;34m\u001b[0m\u001b[0m\n\u001b[0m\u001b[1;32m     11\u001b[0m \u001b[0mf\u001b[0m\u001b[0;34m.\u001b[0m\u001b[0mwritelines\u001b[0m\u001b[0;34m(\u001b[0m\u001b[0mline\u001b[0m\u001b[0;34m)\u001b[0m\u001b[0;34m\u001b[0m\u001b[0;34m\u001b[0m\u001b[0m\n\u001b[1;32m     12\u001b[0m \u001b[0mf\u001b[0m\u001b[0;34m.\u001b[0m\u001b[0mclose\u001b[0m\u001b[0;34m(\u001b[0m\u001b[0;34m)\u001b[0m\u001b[0;34m\u001b[0m\u001b[0;34m\u001b[0m\u001b[0m\n",
      "\u001b[0;31mValueError\u001b[0m: must have exactly one of create/read/write/append mode"
     ]
    }
   ],
   "source": [
    "f = open('tmp.txt', 'w')\n",
    "f.writelines(['test\\n'])\n",
    "f.close()\n",
    "\n",
    "f = open('tmp.txt', 'r')\n",
    "line = f.readlines()\n",
    "line[0] = line[0].replace('test', 'te st')\n",
    "f.close()\n",
    "\n",
    "f = open('tmp.txt', 'w')\n",
    "f.writelines(line)\n",
    "f.close()\n",
    "\n",
    "f = open('tmp.txt', 'r')\n",
    "print(f.readlines())\n",
    "f.close()"
   ]
  },
  {
   "cell_type": "code",
   "execution_count": 22,
   "id": "88b911e4-d15c-453b-ab6e-5f0b89d3712a",
   "metadata": {},
   "outputs": [
    {
     "name": "stdout",
     "output_type": "stream",
     "text": [
      "0407_M_SJ\n",
      "True\n",
      "True\n",
      "0307_F_IC\n",
      "True\n",
      "0500_M_QA\n",
      "True\n",
      "0303_F_CT\n",
      "True\n",
      "0409_F_LE\n",
      "True\n",
      "True\n",
      "0509_F_ES\n",
      "True\n",
      "True\n",
      "0505_M_EK\n",
      "True\n",
      "True\n",
      "0404_M_TC\n",
      "True\n",
      "True\n",
      "0402_M_ON\n",
      "True\n",
      "True\n",
      "0502_F_KM\n",
      "True\n",
      "True\n",
      "0305_M_JG\n",
      "True\n",
      "0504_F_EC\n",
      "True\n",
      "True\n",
      "0407_F_AF\n",
      "True\n",
      "True\n",
      "0310_M_CP\n",
      "True\n",
      "True\n",
      "0410_M_BR\n",
      "True\n",
      "True\n",
      "0603_M_LS\n",
      "True\n",
      "True\n",
      "0506_F_LH\n",
      "True\n",
      "True\n",
      "0307_M_EC\n",
      "True\n",
      "0611_F_AP\n",
      "True\n",
      "True\n",
      "0501_M_VB\n",
      "True\n",
      "True\n",
      "0607_M_CE\n",
      "True\n",
      "True\n",
      "0400_F_AJ\n",
      "True\n",
      "True\n",
      "0601_M_JL\n",
      "True\n",
      "True\n",
      "0605_M_CT\n",
      "True\n",
      "True\n",
      "0305_F_MB\n",
      "True\n",
      "0500_M_WD\n",
      "True\n",
      "True\n",
      "0303_M_AN\n",
      "True\n",
      "0609_F_AK\n",
      "True\n",
      "True\n",
      "0411_F_AW\n",
      "True\n",
      "True\n",
      "0503_M_SR\n",
      "True\n",
      "True\n",
      "0604_F_CC\n",
      "True\n",
      "True\n",
      "0309_F_LB\n",
      "True\n",
      "True\n",
      "0606_F_NS\n",
      "True\n",
      "True\n",
      "0609_M_MN\n",
      "True\n",
      "True\n",
      "0305_F_AN\n",
      "True\n",
      "0511_F_IG\n",
      "True\n",
      "True\n",
      "0510_M_BK\n",
      "True\n",
      "True\n",
      "0308_F_AGL\n",
      "True\n",
      "True\n",
      "0411_M_LM\n",
      "True\n",
      "0402_F_KP\n",
      "True\n",
      "True\n",
      "0603_F_CM\n",
      "True\n",
      "True\n",
      "0500_F_IG\n",
      "True\n",
      "True\n"
     ]
    }
   ],
   "source": [
    "'''\n",
    "replace words that don't exist in the kaldi lexicon\n",
    "\n",
    "'''\n",
    "for foldername in glob.glob('./child_speech_16_khz_test/*'):\n",
    "    speaker = foldername.split('/')[-1]\n",
    "    if '.' not in speaker:\n",
    "        print(speaker)\n",
    "        speakerpath = os.path.join('./child_speech_16_khz_test/', speaker)\n",
    "        spkrfiles = [file for file in glob.glob(speakerpath + '/*')]\n",
    "        spkrtranscriptfiles = [file for file in spkrfiles if '.lab' in file]\n",
    "        replacefile = [file for file in spkrtranscriptfiles if any(badfname in file for badfname in ['s5T02', 'wT19'])]\n",
    "        if len(replacefile)>0:\n",
    "            for rfile in replacefile:\n",
    "                f = open(rfile, 'r')\n",
    "                line = f.readlines()\n",
    "                line[0] = line[0].replace('HOTDOGS', 'HOT DOGS')\n",
    "                line[0] = line[0].replace('BEANIE', 'BEANY')\n",
    "                f.close()\n",
    "                f = open(rfile, 'w')\n",
    "                f.writelines(line)\n",
    "                f.close()\n",
    "\n",
    "                print(True)\n",
    "        # print(any(['s5T02' in file for file in spkrtranscriptfiles]))"
   ]
  },
  {
   "cell_type": "code",
   "execution_count": null,
   "id": "dd74e6b2-99ee-4321-9c11-a67eeb8fd5bf",
   "metadata": {},
   "outputs": [],
   "source": []
  },
  {
   "cell_type": "code",
   "execution_count": null,
   "id": "88e1584b-7040-44fe-b43a-87413b838336",
   "metadata": {},
   "outputs": [],
   "source": []
  },
  {
   "cell_type": "code",
   "execution_count": null,
   "id": "d7f2d6d9-24f0-4d38-84ee-39eec3ab5390",
   "metadata": {},
   "outputs": [],
   "source": []
  },
  {
   "cell_type": "code",
   "execution_count": null,
   "id": "9aa3461d-1043-4805-887d-b3924ba00167",
   "metadata": {},
   "outputs": [],
   "source": []
  },
  {
   "cell_type": "code",
   "execution_count": null,
   "id": "76eab31a-838e-4f00-8102-d74f69540f46",
   "metadata": {},
   "outputs": [],
   "source": []
  },
  {
   "cell_type": "code",
   "execution_count": null,
   "id": "79bf0077-a076-405b-b2fe-3658ff18dc50",
   "metadata": {},
   "outputs": [],
   "source": []
  }
 ],
 "metadata": {
  "kernelspec": {
   "display_name": "dnngop",
   "language": "python",
   "name": "dnngop"
  },
  "language_info": {
   "codemirror_mode": {
    "name": "ipython",
    "version": 3
   },
   "file_extension": ".py",
   "mimetype": "text/x-python",
   "name": "python",
   "nbconvert_exporter": "python",
   "pygments_lexer": "ipython3",
   "version": "3.7.12"
  }
 },
 "nbformat": 4,
 "nbformat_minor": 5
}
