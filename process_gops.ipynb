{
 "cells": [
  {
   "cell_type": "code",
   "execution_count": 4,
   "id": "fa567cb1-355f-4e1a-8317-b1b4fda8010f",
   "metadata": {},
   "outputs": [],
   "source": [
    "import glob\n",
    "import pickle as pkl\n",
    "import pandas as pd\n",
    "\n",
    "\n"
   ]
  },
  {
   "cell_type": "code",
   "execution_count": 43,
   "id": "f1d4942d-98e2-4290-8d51-709d18289f70",
   "metadata": {},
   "outputs": [],
   "source": [
    "def get_phoneid2phone_dict(phoneid_dctpath='./phones/kaldi/phones-list.txt'):\n",
    "    phoneid_dctpath='./phones/kaldi/phones-list.txt'\n",
    "    phoneiddf = pd.read_csv(phoneid_dctpath, delimiter='\\t', header=None, names=['phone', 'id_raw'])\n",
    "    phoneiddf['phoneid'] = phoneiddf['id_raw'].str.strip().str[:-1].str.strip()\n",
    "    # phoneiddf = phoneiddf.set_index('phone')\n",
    "    id2name_dct = {}\n",
    "    for row in phoneiddf.iterrows():\n",
    "        _row = row[1]\n",
    "        id2name_dct[_row.phoneid] = _row.phone\n",
    "    return id2name_dct"
   ]
  },
  {
   "cell_type": "code",
   "execution_count": 44,
   "id": "ce5964fe-9770-4079-a0d4-ecc7dad860ab",
   "metadata": {},
   "outputs": [],
   "source": [
    "phn_id2name = get_phoneid2phone_dict()"
   ]
  },
  {
   "cell_type": "code",
   "execution_count": 30,
   "id": "5d1350da-6470-4740-92f1-c6f3342f4579",
   "metadata": {},
   "outputs": [],
   "source": [
    "speakers = [foldername.split('/')[-1] for foldername in glob.glob('./child_speech_16_khz_test/*') if '.txt' not in foldername]"
   ]
  },
  {
   "cell_type": "code",
   "execution_count": 50,
   "id": "00ddee0d-532c-4557-b185-8fb7237e4d1b",
   "metadata": {},
   "outputs": [],
   "source": [
    "\n",
    "for speaker in speakers:\n",
    "    gop_pickle_path = f'./experiments/{speaker}/gop_kaldi_labels_heldout/gop_scores/gop.pickle'\n",
    "    gop_dict = pd.read_pickle(gop_pickle_path)\n",
    "    \n",
    "    for file in gop_dict.keys():\n",
    "        dct = gop_dict[file]\n",
    "        phn_names =  [phn_id2name[phn] for phn in dct['phones_pure']]\n",
    "        dct['phones_pure'] = phn_names"
   ]
  },
  {
   "cell_type": "code",
   "execution_count": 53,
   "id": "0efa1931-7552-4602-b55c-46535b16f1b7",
   "metadata": {},
   "outputs": [],
   "source": [
    "aligns = pd.read_pickle(f'./experiments/{speaker}/gop_kaldi_labels_heldout/gop_scores/alignments.pickle')"
   ]
  },
  {
   "cell_type": "code",
   "execution_count": 55,
   "id": "ff925598-6655-4c4b-9688-d8dcb4e00090",
   "metadata": {},
   "outputs": [],
   "source": [
    "dct = aligns[list(aligns.keys())[0]]"
   ]
  },
  {
   "cell_type": "code",
   "execution_count": 51,
   "id": "1939c00c-2810-4092-a742-2e8ef847f8b0",
   "metadata": {},
   "outputs": [
    {
     "data": {
      "text/plain": [
       "{'gop': [-4.609952161348173,\n",
       "  -3.8997025512561834,\n",
       "  -2.5574999027781176,\n",
       "  -1.6817264420400162,\n",
       "  -3.3171893321764334,\n",
       "  -2.5484513248384624,\n",
       "  -3.261414725391117,\n",
       "  -2.73626065317229,\n",
       "  -3.599498947973244,\n",
       "  -2.3356553407586764,\n",
       "  -6.209086342908044,\n",
       "  -3.4287725610947004,\n",
       "  -2.7962712870113178,\n",
       "  -2.651900734632965,\n",
       "  -3.6968423306120326,\n",
       "  -5.0604250495974235],\n",
       " 'phones_pure': ['SIL',\n",
       "  'JH',\n",
       "  'AH',\n",
       "  'M',\n",
       "  'P',\n",
       "  'OW',\n",
       "  'V',\n",
       "  'ER',\n",
       "  'DH',\n",
       "  'AH',\n",
       "  'SIL',\n",
       "  'B',\n",
       "  'AA',\n",
       "  'K',\n",
       "  'S',\n",
       "  'SIL']}"
      ]
     },
     "execution_count": 51,
     "metadata": {},
     "output_type": "execute_result"
    }
   ],
   "source": [
    "dct"
   ]
  },
  {
   "cell_type": "code",
   "execution_count": null,
   "id": "0d90eaf7-c9fb-444c-96a2-5d6c94440940",
   "metadata": {},
   "outputs": [],
   "source": []
  }
 ],
 "metadata": {
  "kernelspec": {
   "display_name": "dnngop",
   "language": "python",
   "name": "dnngop"
  },
  "language_info": {
   "codemirror_mode": {
    "name": "ipython",
    "version": 3
   },
   "file_extension": ".py",
   "mimetype": "text/x-python",
   "name": "python",
   "nbconvert_exporter": "python",
   "pygments_lexer": "ipython3",
   "version": "3.7.12"
  }
 },
 "nbformat": 4,
 "nbformat_minor": 5
}
